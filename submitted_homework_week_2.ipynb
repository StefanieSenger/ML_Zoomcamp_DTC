{
 "cells": [
  {
   "cell_type": "code",
   "execution_count": 1,
   "metadata": {},
   "outputs": [],
   "source": [
    "import numpy as np\n",
    "import pandas as pd\n",
    "import seaborn as sns"
   ]
  },
  {
   "cell_type": "markdown",
   "metadata": {},
   "source": [
    "# Homework for the DataTalks.Club Machine Learning Zoomcamp\n",
    "## Week 2"
   ]
  },
  {
   "cell_type": "markdown",
   "metadata": {},
   "source": [
    "### Dataset\n",
    "\n",
    "In this homework, we will use the California Housing Prices from [Kaggle](https://www.kaggle.com/datasets/camnugent/california-housing-prices).\n",
    "\n",
    "Here's a wget-able [link](https://raw.githubusercontent.com/alexeygrigorev/datasets/master/housing.csv):\n",
    "\n",
    "```bash\n",
    "wget https://raw.githubusercontent.com/alexeygrigorev/datasets/master/housing.csv\n",
    "```\n",
    "\n",
    "The goal of this homework is to create a regression model for predicting housing prices (column `'median_house_value'`)."
   ]
  },
  {
   "cell_type": "code",
   "execution_count": 2,
   "metadata": {},
   "outputs": [
    {
     "name": "stdout",
     "output_type": "stream",
     "text": [
      "--2022-09-18 21:14:09--  https://raw.githubusercontent.com/alexeygrigorev/datasets/master/housing.csv\n",
      "Resolving raw.githubusercontent.com (raw.githubusercontent.com)... 185.199.109.133, 185.199.110.133, 185.199.111.133, ...\n",
      "Connecting to raw.githubusercontent.com (raw.githubusercontent.com)|185.199.109.133|:443... connected.\n",
      "HTTP request sent, awaiting response... 200 OK\n",
      "Length: 1423529 (1.4M) [text/plain]\n",
      "Saving to: ‘housing.csv.2’\n",
      "\n",
      "housing.csv.2       100%[===================>]   1.36M  5.97MB/s    in 0.2s    \n",
      "\n",
      "2022-09-18 21:14:09 (5.97 MB/s) - ‘housing.csv.2’ saved [1423529/1423529]\n",
      "\n"
     ]
    }
   ],
   "source": [
    "!wget https://raw.githubusercontent.com/alexeygrigorev/datasets/master/housing.csv > housing.csv"
   ]
  },
  {
   "cell_type": "markdown",
   "metadata": {},
   "source": [
    "### EDA\n",
    "\n",
    "* Load the data.\n",
    "* Look at the `median_house_value` variable. Does it have a long tail? "
   ]
  },
  {
   "cell_type": "code",
   "execution_count": 3,
   "metadata": {},
   "outputs": [
    {
     "data": {
      "text/html": [
       "<div>\n",
       "<style scoped>\n",
       "    .dataframe tbody tr th:only-of-type {\n",
       "        vertical-align: middle;\n",
       "    }\n",
       "\n",
       "    .dataframe tbody tr th {\n",
       "        vertical-align: top;\n",
       "    }\n",
       "\n",
       "    .dataframe thead th {\n",
       "        text-align: right;\n",
       "    }\n",
       "</style>\n",
       "<table border=\"1\" class=\"dataframe\">\n",
       "  <thead>\n",
       "    <tr style=\"text-align: right;\">\n",
       "      <th></th>\n",
       "      <th>longitude</th>\n",
       "      <th>latitude</th>\n",
       "      <th>housing_median_age</th>\n",
       "      <th>total_rooms</th>\n",
       "      <th>total_bedrooms</th>\n",
       "      <th>population</th>\n",
       "      <th>households</th>\n",
       "      <th>median_income</th>\n",
       "      <th>median_house_value</th>\n",
       "      <th>ocean_proximity</th>\n",
       "    </tr>\n",
       "  </thead>\n",
       "  <tbody>\n",
       "    <tr>\n",
       "      <th>0</th>\n",
       "      <td>-122.23</td>\n",
       "      <td>37.88</td>\n",
       "      <td>41.0</td>\n",
       "      <td>880.0</td>\n",
       "      <td>129.0</td>\n",
       "      <td>322.0</td>\n",
       "      <td>126.0</td>\n",
       "      <td>8.3252</td>\n",
       "      <td>452600.0</td>\n",
       "      <td>NEAR BAY</td>\n",
       "    </tr>\n",
       "    <tr>\n",
       "      <th>1</th>\n",
       "      <td>-122.22</td>\n",
       "      <td>37.86</td>\n",
       "      <td>21.0</td>\n",
       "      <td>7099.0</td>\n",
       "      <td>1106.0</td>\n",
       "      <td>2401.0</td>\n",
       "      <td>1138.0</td>\n",
       "      <td>8.3014</td>\n",
       "      <td>358500.0</td>\n",
       "      <td>NEAR BAY</td>\n",
       "    </tr>\n",
       "    <tr>\n",
       "      <th>2</th>\n",
       "      <td>-122.24</td>\n",
       "      <td>37.85</td>\n",
       "      <td>52.0</td>\n",
       "      <td>1467.0</td>\n",
       "      <td>190.0</td>\n",
       "      <td>496.0</td>\n",
       "      <td>177.0</td>\n",
       "      <td>7.2574</td>\n",
       "      <td>352100.0</td>\n",
       "      <td>NEAR BAY</td>\n",
       "    </tr>\n",
       "    <tr>\n",
       "      <th>3</th>\n",
       "      <td>-122.25</td>\n",
       "      <td>37.85</td>\n",
       "      <td>52.0</td>\n",
       "      <td>1274.0</td>\n",
       "      <td>235.0</td>\n",
       "      <td>558.0</td>\n",
       "      <td>219.0</td>\n",
       "      <td>5.6431</td>\n",
       "      <td>341300.0</td>\n",
       "      <td>NEAR BAY</td>\n",
       "    </tr>\n",
       "    <tr>\n",
       "      <th>4</th>\n",
       "      <td>-122.25</td>\n",
       "      <td>37.85</td>\n",
       "      <td>52.0</td>\n",
       "      <td>1627.0</td>\n",
       "      <td>280.0</td>\n",
       "      <td>565.0</td>\n",
       "      <td>259.0</td>\n",
       "      <td>3.8462</td>\n",
       "      <td>342200.0</td>\n",
       "      <td>NEAR BAY</td>\n",
       "    </tr>\n",
       "    <tr>\n",
       "      <th>...</th>\n",
       "      <td>...</td>\n",
       "      <td>...</td>\n",
       "      <td>...</td>\n",
       "      <td>...</td>\n",
       "      <td>...</td>\n",
       "      <td>...</td>\n",
       "      <td>...</td>\n",
       "      <td>...</td>\n",
       "      <td>...</td>\n",
       "      <td>...</td>\n",
       "    </tr>\n",
       "    <tr>\n",
       "      <th>20635</th>\n",
       "      <td>-121.09</td>\n",
       "      <td>39.48</td>\n",
       "      <td>25.0</td>\n",
       "      <td>1665.0</td>\n",
       "      <td>374.0</td>\n",
       "      <td>845.0</td>\n",
       "      <td>330.0</td>\n",
       "      <td>1.5603</td>\n",
       "      <td>78100.0</td>\n",
       "      <td>INLAND</td>\n",
       "    </tr>\n",
       "    <tr>\n",
       "      <th>20636</th>\n",
       "      <td>-121.21</td>\n",
       "      <td>39.49</td>\n",
       "      <td>18.0</td>\n",
       "      <td>697.0</td>\n",
       "      <td>150.0</td>\n",
       "      <td>356.0</td>\n",
       "      <td>114.0</td>\n",
       "      <td>2.5568</td>\n",
       "      <td>77100.0</td>\n",
       "      <td>INLAND</td>\n",
       "    </tr>\n",
       "    <tr>\n",
       "      <th>20637</th>\n",
       "      <td>-121.22</td>\n",
       "      <td>39.43</td>\n",
       "      <td>17.0</td>\n",
       "      <td>2254.0</td>\n",
       "      <td>485.0</td>\n",
       "      <td>1007.0</td>\n",
       "      <td>433.0</td>\n",
       "      <td>1.7000</td>\n",
       "      <td>92300.0</td>\n",
       "      <td>INLAND</td>\n",
       "    </tr>\n",
       "    <tr>\n",
       "      <th>20638</th>\n",
       "      <td>-121.32</td>\n",
       "      <td>39.43</td>\n",
       "      <td>18.0</td>\n",
       "      <td>1860.0</td>\n",
       "      <td>409.0</td>\n",
       "      <td>741.0</td>\n",
       "      <td>349.0</td>\n",
       "      <td>1.8672</td>\n",
       "      <td>84700.0</td>\n",
       "      <td>INLAND</td>\n",
       "    </tr>\n",
       "    <tr>\n",
       "      <th>20639</th>\n",
       "      <td>-121.24</td>\n",
       "      <td>39.37</td>\n",
       "      <td>16.0</td>\n",
       "      <td>2785.0</td>\n",
       "      <td>616.0</td>\n",
       "      <td>1387.0</td>\n",
       "      <td>530.0</td>\n",
       "      <td>2.3886</td>\n",
       "      <td>89400.0</td>\n",
       "      <td>INLAND</td>\n",
       "    </tr>\n",
       "  </tbody>\n",
       "</table>\n",
       "<p>20640 rows × 10 columns</p>\n",
       "</div>"
      ],
      "text/plain": [
       "       longitude  latitude  housing_median_age  total_rooms  total_bedrooms  \\\n",
       "0        -122.23     37.88                41.0        880.0           129.0   \n",
       "1        -122.22     37.86                21.0       7099.0          1106.0   \n",
       "2        -122.24     37.85                52.0       1467.0           190.0   \n",
       "3        -122.25     37.85                52.0       1274.0           235.0   \n",
       "4        -122.25     37.85                52.0       1627.0           280.0   \n",
       "...          ...       ...                 ...          ...             ...   \n",
       "20635    -121.09     39.48                25.0       1665.0           374.0   \n",
       "20636    -121.21     39.49                18.0        697.0           150.0   \n",
       "20637    -121.22     39.43                17.0       2254.0           485.0   \n",
       "20638    -121.32     39.43                18.0       1860.0           409.0   \n",
       "20639    -121.24     39.37                16.0       2785.0           616.0   \n",
       "\n",
       "       population  households  median_income  median_house_value  \\\n",
       "0           322.0       126.0         8.3252            452600.0   \n",
       "1          2401.0      1138.0         8.3014            358500.0   \n",
       "2           496.0       177.0         7.2574            352100.0   \n",
       "3           558.0       219.0         5.6431            341300.0   \n",
       "4           565.0       259.0         3.8462            342200.0   \n",
       "...           ...         ...            ...                 ...   \n",
       "20635       845.0       330.0         1.5603             78100.0   \n",
       "20636       356.0       114.0         2.5568             77100.0   \n",
       "20637      1007.0       433.0         1.7000             92300.0   \n",
       "20638       741.0       349.0         1.8672             84700.0   \n",
       "20639      1387.0       530.0         2.3886             89400.0   \n",
       "\n",
       "      ocean_proximity  \n",
       "0            NEAR BAY  \n",
       "1            NEAR BAY  \n",
       "2            NEAR BAY  \n",
       "3            NEAR BAY  \n",
       "4            NEAR BAY  \n",
       "...               ...  \n",
       "20635          INLAND  \n",
       "20636          INLAND  \n",
       "20637          INLAND  \n",
       "20638          INLAND  \n",
       "20639          INLAND  \n",
       "\n",
       "[20640 rows x 10 columns]"
      ]
     },
     "execution_count": 3,
     "metadata": {},
     "output_type": "execute_result"
    }
   ],
   "source": [
    "data = pd.read_csv('housing.csv.1')\n",
    "data"
   ]
  },
  {
   "cell_type": "code",
   "execution_count": 4,
   "metadata": {},
   "outputs": [
    {
     "data": {
      "image/png": "[encoded data removed]",
      "text/plain": [
       "<Figure size 640x480 with 1 Axes>"
      ]
     },
     "metadata": {},
     "output_type": "display_data"
    }
   ],
   "source": [
    "sns.histplot(data['median_house_value']);"
   ]
  },
  {
   "cell_type": "markdown",
   "metadata": {},
   "source": [
    "Not exactly a long tail, but only because 500,000 seems to have been the highest possible value. I would decide against logarithmically transforming the data in this case."
   ]
  },
  {
   "cell_type": "markdown",
   "metadata": {},
   "source": [
    "### Features\n",
    "\n",
    "For the rest of the homework, you'll need to use only these columns:\n",
    "\n",
    "* `'latitude'`,\n",
    "* `'longitude'`,\n",
    "* `'housing_median_age'`,\n",
    "* `'total_rooms'`,\n",
    "* `'total_bedrooms'`,\n",
    "* `'population'`,\n",
    "* `'households'`,\n",
    "* `'median_income'`,\n",
    "* `'median_house_value'`\n",
    "\n",
    "Select only them."
   ]
  },
  {
   "cell_type": "code",
   "execution_count": 5,
   "metadata": {},
   "outputs": [],
   "source": [
    "data = data[['longitude', 'latitude', 'housing_median_age', 'total_rooms',\n",
    "       'total_bedrooms', 'population', 'households', 'median_income',\n",
    "       'median_house_value']]"
   ]
  },
  {
   "cell_type": "markdown",
   "metadata": {},
   "source": [
    "### Question 1\n",
    "\n",
    "Find a feature with missing values. How many missing values does it have?\n",
    "- 207\n",
    "- 307\n",
    "- 408\n",
    "- 508"
   ]
  },
  {
   "cell_type": "code",
   "execution_count": 6,
   "metadata": {},
   "outputs": [
    {
     "data": {
      "text/plain": [
       "longitude               0\n",
       "latitude                0\n",
       "housing_median_age      0\n",
       "total_rooms             0\n",
       "total_bedrooms        207\n",
       "population              0\n",
       "households              0\n",
       "median_income           0\n",
       "median_house_value      0\n",
       "dtype: int64"
      ]
     },
     "execution_count": 6,
     "metadata": {},
     "output_type": "execute_result"
    }
   ],
   "source": [
    "data.isnull().sum() # total_bedrooms has 207 missing values"
   ]
  },
  {
   "cell_type": "markdown",
   "metadata": {},
   "source": [
    "### Question 2\n",
    "\n",
    "What's the median (50% percentile) for variable 'population'?\n",
    "- 1133\n",
    "- 1122\n",
    "- 1166\n",
    "- 1188"
   ]
  },
  {
   "cell_type": "code",
   "execution_count": 7,
   "metadata": {},
   "outputs": [
    {
     "data": {
      "text/plain": [
       "count    20640.000000\n",
       "mean      1425.476744\n",
       "std       1132.462122\n",
       "min          3.000000\n",
       "25%        787.000000\n",
       "50%       1166.000000\n",
       "75%       1725.000000\n",
       "max      35682.000000\n",
       "Name: population, dtype: float64"
      ]
     },
     "execution_count": 7,
     "metadata": {},
     "output_type": "execute_result"
    }
   ],
   "source": [
    "data['population'].describe() # 1166"
   ]
  },
  {
   "cell_type": "markdown",
   "metadata": {},
   "source": [
    "### Split the data\n",
    "\n",
    "* Shuffle the initial dataset, use seed `42`.\n",
    "* Split your data in train/val/test sets, with 60%/20%/20% distribution.\n",
    "* Make sure that the target value ('median_house_value') is not in your dataframe.\n",
    "* Apply the log transformation to the median_house_value variable using the `np.log1p()` function."
   ]
  },
  {
   "cell_type": "code",
   "execution_count": 8,
   "metadata": {},
   "outputs": [
    {
     "data": {
      "text/plain": [
       "array([20046,  3024, 15663, ...,  5390,   860, 15795])"
      ]
     },
     "execution_count": 8,
     "metadata": {},
     "output_type": "execute_result"
    }
   ],
   "source": [
    "# Making a shuffled index array\n",
    "index_array = np.array([i for i in range(len(data.index))])\n",
    "np.random.seed(42)\n",
    "np.random.shuffle(index_array)\n",
    "index_array"
   ]
  },
  {
   "cell_type": "code",
   "execution_count": 9,
   "metadata": {},
   "outputs": [
    {
     "data": {
      "text/html": [
       "<div>\n",
       "<style scoped>\n",
       "    .dataframe tbody tr th:only-of-type {\n",
       "        vertical-align: middle;\n",
       "    }\n",
       "\n",
       "    .dataframe tbody tr th {\n",
       "        vertical-align: top;\n",
       "    }\n",
       "\n",
       "    .dataframe thead th {\n",
       "        text-align: right;\n",
       "    }\n",
       "</style>\n",
       "<table border=\"1\" class=\"dataframe\">\n",
       "  <thead>\n",
       "    <tr style=\"text-align: right;\">\n",
       "      <th></th>\n",
       "      <th>longitude</th>\n",
       "      <th>latitude</th>\n",
       "      <th>housing_median_age</th>\n",
       "      <th>total_rooms</th>\n",
       "      <th>total_bedrooms</th>\n",
       "      <th>population</th>\n",
       "      <th>households</th>\n",
       "      <th>median_income</th>\n",
       "      <th>median_house_value</th>\n",
       "    </tr>\n",
       "    <tr>\n",
       "      <th>shuffled_index</th>\n",
       "      <th></th>\n",
       "      <th></th>\n",
       "      <th></th>\n",
       "      <th></th>\n",
       "      <th></th>\n",
       "      <th></th>\n",
       "      <th></th>\n",
       "      <th></th>\n",
       "      <th></th>\n",
       "    </tr>\n",
       "  </thead>\n",
       "  <tbody>\n",
       "    <tr>\n",
       "      <th>0</th>\n",
       "      <td>-118.19</td>\n",
       "      <td>34.14</td>\n",
       "      <td>38.0</td>\n",
       "      <td>1826.0</td>\n",
       "      <td>300.0</td>\n",
       "      <td>793.0</td>\n",
       "      <td>297.0</td>\n",
       "      <td>5.2962</td>\n",
       "      <td>291500.0</td>\n",
       "    </tr>\n",
       "    <tr>\n",
       "      <th>1</th>\n",
       "      <td>-117.13</td>\n",
       "      <td>32.91</td>\n",
       "      <td>16.0</td>\n",
       "      <td>3230.0</td>\n",
       "      <td>579.0</td>\n",
       "      <td>1825.0</td>\n",
       "      <td>576.0</td>\n",
       "      <td>4.2969</td>\n",
       "      <td>151200.0</td>\n",
       "    </tr>\n",
       "    <tr>\n",
       "      <th>2</th>\n",
       "      <td>-117.95</td>\n",
       "      <td>33.81</td>\n",
       "      <td>33.0</td>\n",
       "      <td>1724.0</td>\n",
       "      <td>291.0</td>\n",
       "      <td>943.0</td>\n",
       "      <td>285.0</td>\n",
       "      <td>5.1180</td>\n",
       "      <td>195200.0</td>\n",
       "    </tr>\n",
       "    <tr>\n",
       "      <th>3</th>\n",
       "      <td>-119.77</td>\n",
       "      <td>36.73</td>\n",
       "      <td>45.0</td>\n",
       "      <td>1081.0</td>\n",
       "      <td>241.0</td>\n",
       "      <td>821.0</td>\n",
       "      <td>230.0</td>\n",
       "      <td>1.7829</td>\n",
       "      <td>52600.0</td>\n",
       "    </tr>\n",
       "    <tr>\n",
       "      <th>4</th>\n",
       "      <td>-117.19</td>\n",
       "      <td>34.94</td>\n",
       "      <td>31.0</td>\n",
       "      <td>2034.0</td>\n",
       "      <td>444.0</td>\n",
       "      <td>1097.0</td>\n",
       "      <td>367.0</td>\n",
       "      <td>2.1522</td>\n",
       "      <td>60800.0</td>\n",
       "    </tr>\n",
       "    <tr>\n",
       "      <th>...</th>\n",
       "      <td>...</td>\n",
       "      <td>...</td>\n",
       "      <td>...</td>\n",
       "      <td>...</td>\n",
       "      <td>...</td>\n",
       "      <td>...</td>\n",
       "      <td>...</td>\n",
       "      <td>...</td>\n",
       "      <td>...</td>\n",
       "    </tr>\n",
       "    <tr>\n",
       "      <th>20635</th>\n",
       "      <td>-122.25</td>\n",
       "      <td>37.87</td>\n",
       "      <td>52.0</td>\n",
       "      <td>609.0</td>\n",
       "      <td>236.0</td>\n",
       "      <td>1349.0</td>\n",
       "      <td>250.0</td>\n",
       "      <td>1.1696</td>\n",
       "      <td>500001.0</td>\n",
       "    </tr>\n",
       "    <tr>\n",
       "      <th>20636</th>\n",
       "      <td>-118.11</td>\n",
       "      <td>33.80</td>\n",
       "      <td>35.0</td>\n",
       "      <td>1034.0</td>\n",
       "      <td>180.0</td>\n",
       "      <td>444.0</td>\n",
       "      <td>177.0</td>\n",
       "      <td>5.4602</td>\n",
       "      <td>231600.0</td>\n",
       "    </tr>\n",
       "    <tr>\n",
       "      <th>20637</th>\n",
       "      <td>-122.68</td>\n",
       "      <td>38.40</td>\n",
       "      <td>32.0</td>\n",
       "      <td>2826.0</td>\n",
       "      <td>627.0</td>\n",
       "      <td>1767.0</td>\n",
       "      <td>628.0</td>\n",
       "      <td>3.1047</td>\n",
       "      <td>141400.0</td>\n",
       "    </tr>\n",
       "    <tr>\n",
       "      <th>20638</th>\n",
       "      <td>-119.85</td>\n",
       "      <td>36.82</td>\n",
       "      <td>9.0</td>\n",
       "      <td>3995.0</td>\n",
       "      <td>778.0</td>\n",
       "      <td>1691.0</td>\n",
       "      <td>712.0</td>\n",
       "      <td>3.3239</td>\n",
       "      <td>91300.0</td>\n",
       "    </tr>\n",
       "    <tr>\n",
       "      <th>20639</th>\n",
       "      <td>-121.99</td>\n",
       "      <td>36.96</td>\n",
       "      <td>16.0</td>\n",
       "      <td>875.0</td>\n",
       "      <td>201.0</td>\n",
       "      <td>300.0</td>\n",
       "      <td>157.0</td>\n",
       "      <td>2.6250</td>\n",
       "      <td>377300.0</td>\n",
       "    </tr>\n",
       "  </tbody>\n",
       "</table>\n",
       "<p>20640 rows × 9 columns</p>\n",
       "</div>"
      ],
      "text/plain": [
       "                longitude  latitude  housing_median_age  total_rooms  \\\n",
       "shuffled_index                                                         \n",
       "0                 -118.19     34.14                38.0       1826.0   \n",
       "1                 -117.13     32.91                16.0       3230.0   \n",
       "2                 -117.95     33.81                33.0       1724.0   \n",
       "3                 -119.77     36.73                45.0       1081.0   \n",
       "4                 -117.19     34.94                31.0       2034.0   \n",
       "...                   ...       ...                 ...          ...   \n",
       "20635             -122.25     37.87                52.0        609.0   \n",
       "20636             -118.11     33.80                35.0       1034.0   \n",
       "20637             -122.68     38.40                32.0       2826.0   \n",
       "20638             -119.85     36.82                 9.0       3995.0   \n",
       "20639             -121.99     36.96                16.0        875.0   \n",
       "\n",
       "                total_bedrooms  population  households  median_income  \\\n",
       "shuffled_index                                                          \n",
       "0                        300.0       793.0       297.0         5.2962   \n",
       "1                        579.0      1825.0       576.0         4.2969   \n",
       "2                        291.0       943.0       285.0         5.1180   \n",
       "3                        241.0       821.0       230.0         1.7829   \n",
       "4                        444.0      1097.0       367.0         2.1522   \n",
       "...                        ...         ...         ...            ...   \n",
       "20635                    236.0      1349.0       250.0         1.1696   \n",
       "20636                    180.0       444.0       177.0         5.4602   \n",
       "20637                    627.0      1767.0       628.0         3.1047   \n",
       "20638                    778.0      1691.0       712.0         3.3239   \n",
       "20639                    201.0       300.0       157.0         2.6250   \n",
       "\n",
       "                median_house_value  \n",
       "shuffled_index                      \n",
       "0                         291500.0  \n",
       "1                         151200.0  \n",
       "2                         195200.0  \n",
       "3                          52600.0  \n",
       "4                          60800.0  \n",
       "...                            ...  \n",
       "20635                     500001.0  \n",
       "20636                     231600.0  \n",
       "20637                     141400.0  \n",
       "20638                      91300.0  \n",
       "20639                     377300.0  \n",
       "\n",
       "[20640 rows x 9 columns]"
      ]
     },
     "execution_count": 9,
     "metadata": {},
     "output_type": "execute_result"
    }
   ],
   "source": [
    "# Implementing the new index to our dataframe and shuffleing it\n",
    "data['shuffled_index'] = index_array\n",
    "data.set_index(data['shuffled_index'], inplace=True)\n",
    "data.drop(columns=['shuffled_index'], axis=1, inplace=True)\n",
    "data = data.sort_index()\n",
    "data"
   ]
  },
  {
   "cell_type": "code",
   "execution_count": 10,
   "metadata": {},
   "outputs": [],
   "source": [
    "# Manual train-test-split\n",
    "X_train = data.iloc[:int(data.shape[0]*0.6),:-1]\n",
    "y_train = data.iloc[:int(data.shape[0]*0.6),-1]\n",
    "\n",
    "X_val = data.iloc[int(data.shape[0]*0.6):int(data.shape[0]*0.8),:-1]\n",
    "y_val = data.iloc[int(data.shape[0]*0.6):int(data.shape[0]*0.8),-1]\n",
    "\n",
    "X_test = data.iloc[int(data.shape[0]*0.8):,:-1]\n",
    "y_test = data.iloc[int(data.shape[0]*0.8):,-1]"
   ]
  },
  {
   "cell_type": "code",
   "execution_count": 11,
   "metadata": {},
   "outputs": [
    {
     "data": {
      "text/plain": [
       "20640"
      ]
     },
     "execution_count": 11,
     "metadata": {},
     "output_type": "execute_result"
    }
   ],
   "source": [
    "# Checking if correct\n",
    "len(y_val) + len(y_train) + len(y_test)"
   ]
  },
  {
   "cell_type": "code",
   "execution_count": 12,
   "metadata": {},
   "outputs": [],
   "source": [
    "# Transforming the target value logarithmically\n",
    "y_train = np.log1p(y_train)\n",
    "y_val = np.log1p(y_val)\n",
    "y_test = np.log1p(y_test)"
   ]
  },
  {
   "cell_type": "markdown",
   "metadata": {},
   "source": [
    "### Question 3\n",
    "\n",
    "* We need to deal with missing values for the column from Q1.\n",
    "* We have two options: fill it with 0 or with the mean of this variable.\n",
    "* Try both options. For each, train a linear regression model without regularization using the code from the lessons.\n",
    "* For computing the mean, use the training only!\n",
    "* Use the validation dataset to evaluate the models and compare the RMSE of each option.\n",
    "* Round the RMSE scores to 2 decimal digits using `round(score, 2)`\n",
    "* Which option gives better RMSE?\n",
    "\n",
    "Options:\n",
    "- With 0\n",
    "- With mean\n",
    "- Both are equally good"
   ]
  },
  {
   "cell_type": "code",
   "execution_count": 13,
   "metadata": {},
   "outputs": [],
   "source": [
    "# Substituting missing values with 0s\n",
    "\n",
    "X_train_0s = X_train.copy()\n",
    "X_train_0s['total_bedrooms'] = X_train_0s['total_bedrooms'].fillna(0)\n",
    "\n",
    "X_val_0s = X_val.copy()\n",
    "X_val_0s['total_bedrooms'] = X_val_0s['total_bedrooms'].fillna(0)"
   ]
  },
  {
   "cell_type": "code",
   "execution_count": 14,
   "metadata": {},
   "outputs": [],
   "source": [
    "# Substituting missing values with the mean\n",
    "\n",
    "mean_value = X_train['total_bedrooms'].describe()[1]\n",
    "\n",
    "X_train_mean = X_train.copy()\n",
    "X_train_mean['total_bedrooms'] = X_train_mean['total_bedrooms'].fillna(mean_value)\n",
    "\n",
    "X_val_mean = X_val.copy()\n",
    "X_val_mean['total_bedrooms'] = X_val_mean['total_bedrooms'].fillna(mean_value)"
   ]
  },
  {
   "cell_type": "code",
   "execution_count": 15,
   "metadata": {},
   "outputs": [],
   "source": [
    "# Defining manual linear regression using the normal equation\n",
    "\n",
    "def linear_regression(X, y):\n",
    "    \n",
    "    # adding the column of ones\n",
    "    X['ones'] = np.ones(len(X))\n",
    "    cols = X.columns.tolist()\n",
    "    cols = cols[-1:] + cols[:-1]\n",
    "    X = np.array(X[cols])\n",
    "    \n",
    "    # calculating w with the normal equation\n",
    "    XTX = X.T.dot(X)\n",
    "    XTX_inv = np.linalg.inv(XTX)\n",
    "    w = XTX_inv.dot(X.T).dot(y)\n",
    "    w0 = w[0]\n",
    "    w = w[1:]\n",
    "    \n",
    "    return w0, w"
   ]
  },
  {
   "cell_type": "code",
   "execution_count": 16,
   "metadata": {},
   "outputs": [],
   "source": [
    "# Retrieving the model for substitution with 0s\n",
    "bias_0s, coefficients_0s = linear_regression(X_train_0s, y_train)\n",
    "\n",
    "# Retrieving the model for substitution with the mean\n",
    "bias_mean, coefficients_mean = linear_regression(X_train_mean, y_train)"
   ]
  },
  {
   "cell_type": "code",
   "execution_count": 17,
   "metadata": {},
   "outputs": [
    {
     "data": {
      "text/plain": [
       "array([[12.06816478],\n",
       "       [13.38301814],\n",
       "       [11.80723913],\n",
       "       [11.86415343],\n",
       "       [12.03837176]])"
      ]
     },
     "execution_count": 17,
     "metadata": {},
     "output_type": "execute_result"
    }
   ],
   "source": [
    "# Making predictions on the validation set for the 0s\n",
    "\n",
    "y_0s_pred = np.full((len(y_val), 1), bias_0s)\n",
    "\n",
    "for i in range(X_val_0s.shape[0]):\n",
    "    sample = X_val_0s.iloc[i, :]\n",
    "    for j in range(len(sample)):\n",
    "        value = X_val_0s.iloc[i, j]\n",
    "        y_0s_pred[i] += value * coefficients_0s[j]\n",
    "        \n",
    "y_0s_pred[:5]"
   ]
  },
  {
   "cell_type": "code",
   "execution_count": 18,
   "metadata": {},
   "outputs": [
    {
     "data": {
      "text/plain": [
       "array([[12.06625049],\n",
       "       [13.38676869],\n",
       "       [11.80501121],\n",
       "       [11.8684252 ],\n",
       "       [12.03439261]])"
      ]
     },
     "execution_count": 18,
     "metadata": {},
     "output_type": "execute_result"
    }
   ],
   "source": [
    "# Making predictions on the validation set for the means\n",
    "\n",
    "y_mean_pred = np.full((len(y_val), 1), bias_mean)\n",
    "\n",
    "for i in range(X_val_mean.shape[0]):\n",
    "    sample = X_val_mean.iloc[i, :]\n",
    "    for j in range(len(sample)):\n",
    "        value = X_val_mean.iloc[i, j]\n",
    "        y_mean_pred[i] += value * coefficients_mean[j]\n",
    "        \n",
    "y_mean_pred[:5]"
   ]
  },
  {
   "cell_type": "code",
   "execution_count": 19,
   "metadata": {},
   "outputs": [
    {
     "data": {
      "text/plain": [
       "True"
      ]
     },
     "execution_count": 19,
     "metadata": {},
     "output_type": "execute_result"
    }
   ],
   "source": [
    "# Checking if everything went alright\n",
    "len(y_mean_pred) == len(y_0s_pred) == len(y_val)"
   ]
  },
  {
   "cell_type": "code",
   "execution_count": 20,
   "metadata": {},
   "outputs": [],
   "source": [
    "# Calculating the RMSE\n",
    "\n",
    "def rmse_calculator(y_pred, y_test):\n",
    "    error = 0\n",
    "\n",
    "    for i in range(len(np.array(y_test))):\n",
    "        error += (np.array(y_test)[i] - y_pred[i])**2\n",
    "        \n",
    "    error = error / len(np.array(y_test))\n",
    "    error = np.sqrt(error)\n",
    "    return error[0]"
   ]
  },
  {
   "cell_type": "code",
   "execution_count": 21,
   "metadata": {},
   "outputs": [
    {
     "name": "stdout",
     "output_type": "stream",
     "text": [
      "The RMSE for substitution with zeros is:  0.34\n",
      "The RMSE for substitution with the mean is:  0.34\n"
     ]
    }
   ],
   "source": [
    "print('The RMSE for substitution with zeros is: ', round(rmse_calculator(y_pred=y_0s_pred, y_test=y_val), 2))\n",
    "print('The RMSE for substitution with the mean is: ', round(rmse_calculator(y_pred=y_mean_pred, y_test=y_val), 2))"
   ]
  },
  {
   "cell_type": "markdown",
   "metadata": {},
   "source": [
    "### --> So, the score (RMSE) for both, substituting with 0s and with the mean is the same."
   ]
  },
  {
   "cell_type": "markdown",
   "metadata": {},
   "source": [
    "### Question 4\n",
    "\n",
    "* Now let's train a regularized linear regression.\n",
    "* For this question, fill the NAs with 0. \n",
    "* Try different values of `r` from this list: `[0, 0.000001, 0.0001, 0.001, 0.01, 0.1, 1, 5, 10]`.\n",
    "* Use RMSE to evaluate the model on the validation dataset.\n",
    "* Round the RMSE scores to 2 decimal digits.\n",
    "* Which `r` gives the best RMSE?\n",
    "\n",
    "If there are multiple options, select the smallest `r`.\n",
    "\n",
    "Options:\n",
    "- 0\n",
    "- 0.000001\n",
    "- 0.001\n",
    "- 0.0001"
   ]
  },
  {
   "cell_type": "code",
   "execution_count": 22,
   "metadata": {},
   "outputs": [],
   "source": [
    "# Substituting missing values with 0s\n",
    "\n",
    "X_train['total_bedrooms'] = X_train['total_bedrooms'].fillna(0)\n",
    "X_val['total_bedrooms'] = X_val['total_bedrooms'].fillna(0)"
   ]
  },
  {
   "cell_type": "code",
   "execution_count": 23,
   "metadata": {},
   "outputs": [],
   "source": [
    "# Manual linear regression with regularization\n",
    "\n",
    "def linear_regression_with_regularization(X, y, r):\n",
    "    \n",
    "    # adding the column of ones\n",
    "    X['ones'] = np.ones(len(X))\n",
    "    cols = X.columns.tolist()\n",
    "    cols = cols[-1:] + cols[:-1]\n",
    "    X = np.array(X[cols])\n",
    "    \n",
    "    # calculating w with the normal equation\n",
    "    XTX = X.T.dot(X)\n",
    "    XTX = XTX + np.eye(XTX.shape[0]) * r\n",
    "    XTX_inv = np.linalg.inv(XTX)\n",
    "    w = XTX_inv.dot(X.T).dot(y)\n",
    "    w0 = w[0]\n",
    "    w = w[1:]\n",
    "    \n",
    "    return w0, w"
   ]
  },
  {
   "cell_type": "code",
   "execution_count": 24,
   "metadata": {},
   "outputs": [],
   "source": [
    "# Calling the linear regression with different regularisation params\n",
    "\n",
    "r_list = [0, 0.000001, 0.0001, 0.001, 0.01, 0.1, 1, 5, 10]\n",
    "rmse_scores_list = []\n",
    "\n",
    "for r in r_list:\n",
    "    bias, coefficients = linear_regression_with_regularization(X_train, y_train, r)\n",
    "    \n",
    "    y_pred = np.full((len(y_val), 1), bias)\n",
    "    \n",
    "    for i in range(X_val.shape[0]):\n",
    "        sample = X_val.iloc[i, :]\n",
    "        for j in range(len(sample)):\n",
    "            value = X_val.iloc[i, j]\n",
    "            y_pred[i] += value * coefficients[j]\n",
    "    \n",
    "    rmse_scores_list.append(rmse_calculator(y_pred=y_pred, y_test=y_val))"
   ]
  },
  {
   "cell_type": "code",
   "execution_count": 25,
   "metadata": {},
   "outputs": [
    {
     "data": {
      "text/plain": [
       "[0.33703670528229923,\n",
       " 0.3370367081507356,\n",
       " 0.33703699231552214,\n",
       " 0.3370395889047349,\n",
       " 0.33706683095595213,\n",
       " 0.33743484879644275,\n",
       " 0.34166828808650895,\n",
       " 0.3467308572640016,\n",
       " 0.347975027147151]"
      ]
     },
     "execution_count": 25,
     "metadata": {},
     "output_type": "execute_result"
    }
   ],
   "source": [
    "rmse_scores_list"
   ]
  },
  {
   "cell_type": "code",
   "execution_count": 26,
   "metadata": {},
   "outputs": [
    {
     "data": {
      "text/plain": [
       "0.33703670528229923"
      ]
     },
     "execution_count": 26,
     "metadata": {},
     "output_type": "execute_result"
    }
   ],
   "source": [
    "np.array(rmse_scores_list).min()"
   ]
  },
  {
   "cell_type": "markdown",
   "metadata": {},
   "source": [
    "### --> The first value is the lowest, thus r = 0 returns the best rmse."
   ]
  },
  {
   "cell_type": "markdown",
   "metadata": {},
   "source": [
    "### Question 5 \n",
    "\n",
    "* We used seed 42 for splitting the data. Let's find out how selecting the seed influences our score.\n",
    "* Try different seed values: `[0, 1, 2, 3, 4, 5, 6, 7, 8, 9]`.\n",
    "* For each seed, do the train/validation/test split with 60%/20%/20% distribution.\n",
    "* Fill the missing values with 0 and train a model without regularization.\n",
    "* For each seed, evaluate the model on the validation dataset and collect the RMSE scores. \n",
    "* What's the standard deviation of all the scores? To compute the standard deviation, use `np.std`.\n",
    "* Round the result to 3 decimal digits (`round(std, 3)`)\n",
    "\n",
    "> Note: Standard deviation shows how different the values are.\n",
    "> If it's low, then all values are approximately the same.\n",
    "> If it's high, the values are different. \n",
    "> If standard deviation of scores is low, then our model is *stable*.\n",
    "\n",
    "Options:\n",
    "- 0.16\n",
    "- 0.00005\n",
    "- 0.005\n",
    "- 0.15555"
   ]
  },
  {
   "cell_type": "code",
   "execution_count": 27,
   "metadata": {},
   "outputs": [],
   "source": [
    "# Experimenting with different seeds\n",
    "\n",
    "seeds = [0, 1, 2, 3, 4, 5, 6, 7, 8, 9]\n",
    "rmse_scores_list = []\n",
    "\n",
    "for seed in seeds:\n",
    "\n",
    "    # Making a shuffled index array\n",
    "    index_array = np.array([i for i in range(len(data.index))])\n",
    "    np.random.seed(seed)\n",
    "    np.random.shuffle(index_array)\n",
    "\n",
    "    # Implementing the new index to our dataframe and shuffleing it\n",
    "    data['shuffled_index'] = index_array\n",
    "    data.set_index(data['shuffled_index'], inplace=True)\n",
    "    data.drop(columns=['shuffled_index'], axis=1, inplace=True)\n",
    "    data = data.sort_index()\n",
    "\n",
    "    # Manual train-test-split\n",
    "    X_train = data.iloc[:int(data.shape[0]*0.6),:-1]\n",
    "    y_train = data.iloc[:int(data.shape[0]*0.6),-1]\n",
    "\n",
    "    X_val = data.iloc[int(data.shape[0]*0.6):int(data.shape[0]*0.8),:-1]\n",
    "    y_val = data.iloc[int(data.shape[0]*0.6):int(data.shape[0]*0.8),-1]\n",
    "\n",
    "    X_test = data.iloc[int(data.shape[0]*0.8):,:-1]\n",
    "    y_test = data.iloc[int(data.shape[0]*0.8):,-1]\n",
    "\n",
    "    # Transforming the target value logarithmically\n",
    "    y_train = np.log1p(y_train)\n",
    "    y_val = np.log1p(y_val)\n",
    "    y_test = np.log1p(y_test)\n",
    "\n",
    "    # Substituting missing values with 0s\n",
    "    X_train['total_bedrooms'] = X_train['total_bedrooms'].fillna(0)\n",
    "    X_val['total_bedrooms'] = X_val['total_bedrooms'].fillna(0)\n",
    "\n",
    "    bias, coefficients = linear_regression(X_train, y_train)\n",
    "    \n",
    "    y_pred = np.full((len(y_val), 1), bias)\n",
    "    \n",
    "    for i in range(X_val.shape[0]):\n",
    "        sample = X_val.iloc[i, :]\n",
    "        for j in range(len(sample)):\n",
    "            value = X_val.iloc[i, j]\n",
    "            y_pred[i] += value * coefficients[j]\n",
    "    \n",
    "    rmse_scores_list.append(rmse_calculator(y_pred=y_pred, y_test=y_val))"
   ]
  },
  {
   "cell_type": "code",
   "execution_count": 28,
   "metadata": {},
   "outputs": [
    {
     "data": {
      "text/plain": [
       "[0.33989441532619546,\n",
       " 0.3339578910975853,\n",
       " 0.3404553070532869,\n",
       " 0.3424087736653439,\n",
       " 0.3415823027531844,\n",
       " 0.3435063844891291,\n",
       " 0.3356173234032092,\n",
       " 0.34101887724953434,\n",
       " 0.34981098920009696,\n",
       " 0.34721713488536665]"
      ]
     },
     "execution_count": 28,
     "metadata": {},
     "output_type": "execute_result"
    }
   ],
   "source": [
    "rmse_scores_list"
   ]
  },
  {
   "cell_type": "code",
   "execution_count": 29,
   "metadata": {},
   "outputs": [
    {
     "data": {
      "text/plain": [
       "0.004494267643355957"
      ]
     },
     "execution_count": 29,
     "metadata": {},
     "output_type": "execute_result"
    }
   ],
   "source": [
    "# Standard deviation of the scores to test if you model is stable\n",
    "np.array(rmse_scores_list).std()"
   ]
  },
  {
   "cell_type": "markdown",
   "metadata": {},
   "source": [
    "### --> The std is closest to 0.005, even though I would not have rounded it this way, which is a little strange ..."
   ]
  },
  {
   "cell_type": "markdown",
   "metadata": {},
   "source": [
    "### Question 6\n",
    "\n",
    "* Split the dataset like previously, use seed 9.\n",
    "* Combine train and validation datasets.\n",
    "* Fill the missing values with 0 and train a model with `r=0.001`. \n",
    "* What's the RMSE on the test dataset?\n",
    "\n",
    "Options:\n",
    "- 0.35\n",
    "- 0.135\n",
    "- 0.450\n",
    "- 0.245"
   ]
  },
  {
   "cell_type": "code",
   "execution_count": 31,
   "metadata": {},
   "outputs": [
    {
     "data": {
      "text/plain": [
       "0.34758326510993004"
      ]
     },
     "execution_count": 31,
     "metadata": {},
     "output_type": "execute_result"
    }
   ],
   "source": [
    "# Making a shuffled index array\n",
    "index_array = np.array([i for i in range(len(data.index))])\n",
    "np.random.seed(9)\n",
    "np.random.shuffle(index_array)\n",
    "\n",
    "# Implementing the new index to our dataframe and shuffleing it\n",
    "data['shuffled_index'] = index_array\n",
    "data.set_index(data['shuffled_index'], inplace=True)\n",
    "data.drop(columns=['shuffled_index'], axis=1, inplace=True)\n",
    "data = data.sort_index()\n",
    "\n",
    "# Manual train-test-split\n",
    "X_train = data.iloc[:int(data.shape[0]*0.8),:-1]\n",
    "y_train = data.iloc[:int(data.shape[0]*0.8),-1]\n",
    "\n",
    "X_test = data.iloc[int(data.shape[0]*0.8):,:-1]\n",
    "y_test = data.iloc[int(data.shape[0]*0.8):,-1]\n",
    "\n",
    "# Transforming the target value logarithmically\n",
    "y_train = np.log1p(y_train)\n",
    "y_test = np.log1p(y_test)\n",
    "\n",
    "# Substituting missing values with 0s\n",
    "X_train['total_bedrooms'] = X_train['total_bedrooms'].fillna(0)\n",
    "X_test['total_bedrooms'] = X_test['total_bedrooms'].fillna(0)\n",
    "\n",
    "bias, coefficients = linear_regression_with_regularization(X_train, y_train, r=0.001)\n",
    "\n",
    "y_pred = np.full((len(y_test), 1), bias)\n",
    "\n",
    "for i in range(X_test.shape[0]):\n",
    "    sample = X_test.iloc[i, :]\n",
    "    for j in range(len(sample)):\n",
    "        value = X_test.iloc[i, j]\n",
    "        y_pred[i] += value * coefficients[j]\n",
    "\n",
    "rmse_calculator(y_pred=y_pred, y_test=y_test)"
   ]
  },
  {
   "cell_type": "markdown",
   "metadata": {},
   "source": [
    "### --> My RMSE is closest to 0.35."
   ]
  },
  {
   "cell_type": "code",
   "execution_count": null,
   "metadata": {},
   "outputs": [],
   "source": []
  }
 ],
 "metadata": {
  "kernelspec": {
   "display_name": "Python 3.9.13 64-bit ('ml-zoomcamp')",
   "language": "python",
   "name": "python3"
  },
  "language_info": {
   "codemirror_mode": {
    "name": "ipython",
    "version": 3
   },
   "file_extension": ".py",
   "mimetype": "text/x-python",
   "name": "python",
   "nbconvert_exporter": "python",
   "pygments_lexer": "ipython3",
   "version": "3.9.13"
  },
  "orig_nbformat": 4,
  "vscode": {
   "interpreter": {
    "hash": "31d5fb0f3daf38fc1546bdd28289ef175b4d9239148fd7f6b3732f3ff5c9d6e1"
   }
  }
 },
 "nbformat": 4,
 "nbformat_minor": 2
}
